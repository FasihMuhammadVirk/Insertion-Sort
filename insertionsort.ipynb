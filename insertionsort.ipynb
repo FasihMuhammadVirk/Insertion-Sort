{
  "nbformat": 4,
  "nbformat_minor": 0,
  "metadata": {
    "colab": {
      "name": "insertionsort.ipynb",
      "provenance": []
    },
    "kernelspec": {
      "name": "python3",
      "display_name": "Python 3"
    },
    "language_info": {
      "name": "python"
    }
  },
  "cells": [
    {
      "cell_type": "code",
      "execution_count": null,
      "metadata": {
        "colab": {
          "base_uri": "https://localhost:8080/"
        },
        "id": "pMMCyMBCas3b",
        "outputId": "c0ad7e61-db4c-4e5b-8967-4e8c2507b3b8"
      },
      "outputs": [
        {
          "output_type": "stream",
          "name": "stdout",
          "text": [
            "Enter any Numbers (Seperated by Commas): 12,2,4,5,7,1,0\n",
            "0\n",
            "1\n",
            "2\n",
            "4\n",
            "5\n",
            "7\n",
            "12\n"
          ]
        }
      ],
      "source": [
        "def insertionsort(arr):\n",
        "  n = len (arr)\n",
        "  for i in range(1,n):\n",
        "    key = arr[i]\n",
        "    j = i-1\n",
        "    while j>=0 and key < arr[j]:\n",
        "      arr[j+1] = arr[j]\n",
        "      j -= 1\n",
        "    arr[j+1] = key\n",
        "arr = [2,3,4,2,1]\n",
        "numbers = input(\"Enter any Numbers (Seperated by Commas): \").split(\",\")\n",
        "arraytosort = []\n",
        "for i in numbers:\n",
        "   arraytosort.append(int(i))\n",
        "insertionsort(arraytosort)\n",
        "for i in range(len(arraytosort)):\n",
        "  print(arraytosort[i],end= \"\\n\")"
      ]
    },
    {
      "cell_type": "code",
      "source": [
        "def insertionsort(arr):\n",
        "  n = len (arr)\n",
        "  for i in range(1,n):\n",
        "    key = arr[i]\n",
        "    j = i-1\n",
        "    while j>=0 and key > arr[j]:\n",
        "      arr[j+1] = arr[j]\n",
        "      j -= 1\n",
        "    arr[j+1] = key\n",
        "\n",
        "numbers = input(\"Enter any Numbers (Seperated by Commas): \").split(\",\")\n",
        "arraytosort = []\n",
        "for i in numbers:\n",
        "   arraytosort.append(int(i))\n",
        "insertionsort(arraytosort)\n",
        "for i in range(len(arraytosort)):\n",
        "  print(arraytosort[i],end= \"\\n\")"
      ],
      "metadata": {
        "colab": {
          "base_uri": "https://localhost:8080/"
        },
        "id": "4UMVOq1gcAI2",
        "outputId": "3b938eca-0cbf-44c0-d318-e416feadd96f"
      },
      "execution_count": null,
      "outputs": [
        {
          "output_type": "stream",
          "name": "stdout",
          "text": [
            "Enter any Numbers (Seperated by Commas): 0,1,3,4,5,6\n",
            "6\n",
            "5\n",
            "4\n",
            "3\n",
            "1\n",
            "0\n"
          ]
        }
      ]
    },
    {
      "cell_type": "code",
      "source": [
        "def insertionsort(arr):\n",
        "  n = len (arr)\n",
        "  for i in range(1,n):\n",
        "    key = arr[i]\n",
        "    j = i-1\n",
        "    while j>=0 and key < arr[j]:\n",
        "      arr[j+1] = arr[j]\n",
        "      j -= 1\n",
        "    arr[j+1] = key\n",
        "\n",
        "arraytosort  = input(\"Enter Your Name (Seperated by Spaces): \").split(\" \")\n",
        "insertionsort(arraytosort)\n",
        "for i in range(len(arraytosort)):\n",
        "  print(arraytosort[i],end= \"\\n\")\n"
      ],
      "metadata": {
        "colab": {
          "base_uri": "https://localhost:8080/"
        },
        "id": "n3-vBl9UfGfc",
        "outputId": "0d4217d1-a5bc-4752-8dfe-a3388393f4a1"
      },
      "execution_count": null,
      "outputs": [
        {
          "output_type": "stream",
          "name": "stdout",
          "text": [
            "Enter Your Name (Seperated by Spaces): f a s i h m u h a m m a d\n",
            "a\n",
            "a\n",
            "a\n",
            "d\n",
            "f\n",
            "h\n",
            "h\n",
            "i\n",
            "m\n",
            "m\n",
            "m\n",
            "s\n",
            "u\n"
          ]
        }
      ]
    },
    {
      "cell_type": "code",
      "source": [
        "def insertionsort(arr):\n",
        "  n = len (arr)\n",
        "  for i in range(1,n):\n",
        "    key = arr[i]\n",
        "    j = i-1\n",
        "    while j>=0 and key > arr[j]:\n",
        "      arr[j+1] = arr[j]\n",
        "      j -= 1\n",
        "    arr[j+1] = key\n",
        "\n",
        "arraytosort  = input(\"Enter Your Name (Seperated by Spaces): \").split(\" \")\n",
        "insertionsort(arraytosort)\n",
        "for i in range(len(arraytosort)):\n",
        "  print(arraytosort[i],end= \"\\n\")"
      ],
      "metadata": {
        "colab": {
          "base_uri": "https://localhost:8080/"
        },
        "id": "zX1-ph3jfZIT",
        "outputId": "93c13ebe-c781-4f59-c73c-b6df44b399f9"
      },
      "execution_count": null,
      "outputs": [
        {
          "output_type": "stream",
          "name": "stdout",
          "text": [
            "Enter Your Name (Seperated by Spaces): f a s i h m u h a m m a d\n",
            "u\n",
            "s\n",
            "m\n",
            "m\n",
            "m\n",
            "i\n",
            "h\n",
            "h\n",
            "f\n",
            "d\n",
            "a\n",
            "a\n",
            "a\n"
          ]
        }
      ]
    }
  ]
}